{
 "cells": [
  {
   "cell_type": "code",
   "execution_count": 1,
   "metadata": {},
   "outputs": [],
   "source": [
    "import random"
   ]
  },
  {
   "cell_type": "code",
   "execution_count": 2,
   "metadata": {},
   "outputs": [
    {
     "name": "stdout",
     "output_type": "stream",
     "text": [
      "enter the nameMonesh\n",
      "Hello Monesh, How are you\n"
     ]
    }
   ],
   "source": [
    "name=input(\"enter the name\")\n",
    "print(\"Hello \"  +name+ \", How are you\")"
   ]
  },
  {
   "cell_type": "code",
   "execution_count": 3,
   "metadata": {},
   "outputs": [
    {
     "name": "stdout",
     "output_type": "stream",
     "text": [
      "Heads percent: 50.1\n",
      "Tails percent: 49.9\n"
     ]
    }
   ],
   "source": [
    "def flipcoin():\n",
    "    heads=0\n",
    "    tails=0\n",
    "    hpercent=0\n",
    "    tpercent=0\n",
    "    for i in range(1000):\n",
    "        coin=random.randint(1,2)\n",
    "        if coin==1:\n",
    "            #print(\"heads\")\n",
    "            heads+=1\n",
    "        else:\n",
    "            #print(\"tails\")\n",
    "            tails+=1\n",
    "    hpercent=(heads/10)\n",
    "    tpercent=100.0-hpercent\n",
    "    print(\"Heads percent: \" + str(hpercent)) \n",
    "    print(\"Tails percent: \" + str(tpercent)) \n",
    "    \n",
    "flipcoin()"
   ]
  },
  {
   "cell_type": "code",
   "execution_count": 4,
   "metadata": {},
   "outputs": [
    {
     "name": "stdout",
     "output_type": "stream",
     "text": [
      "enter the year2020\n",
      "its a leap year\n"
     ]
    }
   ],
   "source": [
    "def leapyear(year):\n",
    "    if(((year%4==0)and(year%100!=0))or(year%400==0)):\n",
    "        print(\"its a leap year\")\n",
    "    else:\n",
    "        print(\"its not a leap year\")\n",
    "\n",
    "year=int(input(\"enter the year\"))\n",
    "leapyear(year)"
   ]
  },
  {
   "cell_type": "code",
   "execution_count": 5,
   "metadata": {},
   "outputs": [
    {
     "name": "stdout",
     "output_type": "stream",
     "text": [
      "enter the n value:12\n",
      "factors of n: 4096\n"
     ]
    }
   ],
   "source": [
    "def factors(n):\n",
    "    N=1\n",
    "    for i in range(1,n+1):\n",
    "        N=2*N\n",
    "    print(\"factors of n:\",N )\n",
    "\n",
    "n=int(input(\"enter the n value:\"))\n",
    "factors(n)"
   ]
  },
  {
   "cell_type": "code",
   "execution_count": 6,
   "metadata": {},
   "outputs": [
    {
     "name": "stdout",
     "output_type": "stream",
     "text": [
      "enter the N value:8\n",
      "Nth harmonic value is: 3.1\n"
     ]
    }
   ],
   "source": [
    "def harmonic(N):\n",
    "    harmonic=1.00\n",
    "    for i in range(2,n+1):\n",
    "        harmonic+=1/i\n",
    "    harmonic=round(harmonic,2)\n",
    "    print(\"Nth harmonic value is:\",harmonic)\n",
    "\n",
    "N=int(input(\"enter the N value:\"))\n",
    "harmonic(N)"
   ]
  },
  {
   "cell_type": "code",
   "execution_count": 7,
   "metadata": {},
   "outputs": [
    {
     "name": "stdout",
     "output_type": "stream",
     "text": [
      "enter the N value:315\n",
      "3\n",
      "3\n",
      "5\n",
      "7\n"
     ]
    }
   ],
   "source": [
    "import math \n",
    "def primeFactors(n): \n",
    "    while n % 2 == 0: \n",
    "        print(2 ), \n",
    "        n = n / 2\n",
    "\n",
    "    for i in range(3,int(math.sqrt(n))+1,2): \n",
    "        while n % i== 0: \n",
    "            print(i), \n",
    "            n = n / i \n",
    "\n",
    "    if n > 2: \n",
    "        print(n) \n",
    "\n",
    "n = int(input(\"enter the N value:\"))\n",
    "primeFactors(n) "
   ]
  },
  {
   "cell_type": "markdown",
   "metadata": {},
   "source": [
    "# Functional programs"
   ]
  },
  {
   "cell_type": "code",
   "execution_count": 8,
   "metadata": {},
   "outputs": [
    {
     "name": "stdout",
     "output_type": "stream",
     "text": [
      "enter the no of rows2\n",
      "enter the no of columns2\n",
      "1\n",
      "2\n",
      "2\n",
      "1\n",
      "1 2 \n",
      "2 1 \n"
     ]
    }
   ],
   "source": [
    "rows=int(input(\"enter the no of rows\"))\n",
    "columns=int(input(\"enter the no of columns\"))\n",
    "matrix=[]\n",
    "for i in range(rows):\n",
    "    a=[]\n",
    "    for j in range(columns):\n",
    "        a.append(int(input()))\n",
    "    matrix.append(a)\n",
    "\n",
    "for i in range(rows):\n",
    "    for j in range(columns):\n",
    "        print(matrix[i][j], end=\" \")\n",
    "    print()"
   ]
  },
  {
   "cell_type": "code",
   "execution_count": 10,
   "metadata": {},
   "outputs": [
    {
     "name": "stdout",
     "output_type": "stream",
     "text": [
      "-1 2 -1\n",
      "2 0 -2\n"
     ]
    }
   ],
   "source": [
    "def triplets(arr,n):\n",
    "    found=True\n",
    "    for i in range(0,n-2):\n",
    "        for j in range(i+1,n-1):\n",
    "            for k in range(j+1,n):\n",
    "                if(arr[i]+arr[j]+arr[k]==0):\n",
    "                    print(arr[i], arr[j], arr[k])\n",
    "                    found=True\n",
    "    \n",
    "    if(found==False):\n",
    "        print(\"No triplets\")\n",
    "        \n",
    "arr=[-1,2,-1,0,-2]\n",
    "n=len(arr)\n",
    "triplets(arr,n)"
   ]
  },
  {
   "cell_type": "code",
   "execution_count": 15,
   "metadata": {},
   "outputs": [
    {
     "name": "stdout",
     "output_type": "stream",
     "text": [
      "enter the X value2\n",
      "enter the y value2\n",
      "Euclidean distance is 2.8284271247461903\n"
     ]
    }
   ],
   "source": [
    "def distance(x,y):\n",
    "    distance=0\n",
    "    distance+=math.sqrt((x*x)+(y*y))\n",
    "    print(\"Euclidean distance is\", distance)\n",
    "    \n",
    "\n",
    "x=int(input(\"enter the X value\"))\n",
    "y=int(input(\"enter the y value\"))\n",
    "\n",
    "distance(x,y)"
   ]
  },
  {
   "cell_type": "code",
   "execution_count": 25,
   "metadata": {},
   "outputs": [
    {
     "name": "stdout",
     "output_type": "stream",
     "text": [
      "1\n",
      "(-2+0j)\n",
      "(-3+0j)\n"
     ]
    }
   ],
   "source": [
    "import cmath\n",
    "def quadratic(a,b,c):\n",
    "    delta=(b**2) -(4*a*c)\n",
    "    print(delta)\n",
    "    root1=(-b+cmath.sqrt(delta))/(2*a)\n",
    "    print(root1)\n",
    "    root2=(-b-cmath.sqrt(delta))/(2*a)\n",
    "    print(root2)\n",
    "\n",
    "a=1\n",
    "b=5\n",
    "c=6\n",
    "quadratic(a,b,c)"
   ]
  },
  {
   "cell_type": "code",
   "execution_count": 34,
   "metadata": {},
   "outputs": [
    {
     "name": "stdout",
     "output_type": "stream",
     "text": [
      "49\n",
      "119\n",
      "windchill is 34.39383216403604\n"
     ]
    }
   ],
   "source": [
    "import sys\n",
    "def windchill(t,v):\n",
    "    value=math.pow(v,0.16)\n",
    "    w=35.74+(0.6215*t)+((0.4275*t)-35.75)*value\n",
    "    print(\"windchill is\",w)\n",
    "\n",
    "t=int(input())\n",
    "if(t>50):\n",
    "    print(\"temperature should be lessthan 50\")\n",
    "    sys.exit()\n",
    "    \n",
    "v=int(input())\n",
    "if(t>120 and t<3):\n",
    "    print(\"speed should be lessthan 120 and greater than 3\")\n",
    "    sys.exit()\n",
    "    \n",
    "windchill(t,v)"
   ]
  },
  {
   "cell_type": "markdown",
   "metadata": {},
   "source": [
    "# Logical programs"
   ]
  },
  {
   "cell_type": "code",
   "execution_count": 42,
   "metadata": {},
   "outputs": [
    {
     "name": "stdout",
     "output_type": "stream",
     "text": [
      "enter the stake value:10\n",
      "enter the goal value:20\n",
      "enter the trails:100\n",
      "no of wins 41\n",
      "41%wins\n",
      "59.0%lose\n"
     ]
    }
   ],
   "source": [
    "def gambler(s,g,n):\n",
    "    bets=0\n",
    "    wins=0\n",
    "    for i in range(n):\n",
    "        cash=s\n",
    "        while(cash>0 and cash<g):\n",
    "            bets+=1\n",
    "            if(random.randrange(0,2)==0):\n",
    "                cash+=1\n",
    "            else:\n",
    "                cash-=1\n",
    "        if cash==g:\n",
    "            wins+=1\n",
    "    print(\"no of wins\",wins)\n",
    "    win=100*wins//n\n",
    "    print(str(win)+'%wins')\n",
    "    print(str(100.0-win)+'%lose')\n",
    "\n",
    "\n",
    "s= int(input(\"enter the stake value:\"))\n",
    "g= int(input(\"enter the goal value:\"))\n",
    "n= int(input(\"enter the trails:\"))\n",
    "gambler(s,g,n)"
   ]
  },
  {
   "cell_type": "code",
   "execution_count": 53,
   "metadata": {},
   "outputs": [
    {
     "data": {
      "text/plain": [
       "[62, 44, 75, 98, 99, 93, 15, 66, 57, 91]"
      ]
     },
     "execution_count": 53,
     "metadata": {},
     "output_type": "execute_result"
    }
   ],
   "source": [
    "import random\n",
    "n=10\n",
    "random.sample(range(1, 100), n)"
   ]
  },
  {
   "cell_type": "code",
   "execution_count": null,
   "metadata": {},
   "outputs": [],
   "source": [
    "#start time\n",
    "print(\"enter start time\")\n",
    "hour=int(input(\"enter hour\"))\n",
    "mins=int(input(\"enter mins\"))\n",
    "secs=int(input(\"enter secs\"))\n",
    "msecs=int(input(\"enter millseconds\"))\n",
    "#stop time\n",
    "print(\"enter stop time\")\n",
    "hour1=int(input(\"enter hour\"))\n",
    "mins1=int(input(\"enter mins\"))\n",
    "secs1=int(input(\"enter secs\"))\n",
    "msecs1=int(input(\"enter millseconds\"))\n",
    "\n",
    "msecs2="
   ]
  },
  {
   "cell_type": "code",
   "execution_count": 96,
   "metadata": {},
   "outputs": [
    {
     "name": "stdout",
     "output_type": "stream",
     "text": [
      "Press Enter to start1\n",
      "Press Enter to stop121\n",
      "120\n"
     ]
    }
   ],
   "source": [
    "import time\n",
    "def time_convert(sec):\n",
    "   # print(sec)\n",
    "    mins = sec / 60\n",
    "    #print(mins)\n",
    "    sec = sec % 60\n",
    "    hours = mins // 60\n",
    "    mins = mins % 60\n",
    "    print(\"Time Lapsed = {0}:{1}:{2}\".format(int(hours),int(mins),sec))\n",
    "\n",
    "start_time=int(input(\"Press Enter to start\"))\n",
    "#start_time = time.time()\n",
    "end_time=int(input(\"Press Enter to stop\"))\n",
    "#end_time = time.time()\n",
    "time_elapsed = end_time - start_time\n",
    "print(time_elapsed)\n",
    "\n"
   ]
  },
  {
   "cell_type": "code",
   "execution_count": 97,
   "metadata": {},
   "outputs": [
    {
     "name": "stdout",
     "output_type": "stream",
     "text": [
      "Press Enter to start1\n",
      "Press Enter to stop121\n",
      "120\n"
     ]
    }
   ],
   "source": [
    "start_time=int(input(\"Press Enter to start\"))\n",
    "#start_time = time.time()\n",
    "end_time=int(input(\"Press Enter to stop\"))\n",
    "#end_time = time.time()\n",
    "time_elapsed = end_time - start_time\n",
    "print(time_elapsed)\n"
   ]
  },
  {
   "cell_type": "code",
   "execution_count": null,
   "metadata": {},
   "outputs": [],
   "source": []
  }
 ],
 "metadata": {
  "kernelspec": {
   "display_name": "Python 3",
   "language": "python",
   "name": "python3"
  },
  "language_info": {
   "codemirror_mode": {
    "name": "ipython",
    "version": 3
   },
   "file_extension": ".py",
   "mimetype": "text/x-python",
   "name": "python",
   "nbconvert_exporter": "python",
   "pygments_lexer": "ipython3",
   "version": "3.7.4"
  }
 },
 "nbformat": 4,
 "nbformat_minor": 2
}
